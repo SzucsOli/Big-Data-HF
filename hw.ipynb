{
 "cells": [
  {
   "cell_type": "code",
   "execution_count": 3,
   "id": "034f3afc",
   "metadata": {
    "scrolled": true
   },
   "outputs": [],
   "source": [
    "import numpy as np\n",
    "import pandas as pd\n",
    "import bamboolib as bam"
   ]
  },
  {
   "cell_type": "code",
   "execution_count": 6,
   "id": "0cef0927",
   "metadata": {},
   "outputs": [],
   "source": [
    "f = pd.read_excel(\"gtd.xlsx\")\n"
   ]
  },
  {
   "cell_type": "code",
   "execution_count": 7,
   "id": "e5e91507",
   "metadata": {},
   "outputs": [],
   "source": [
    "countries = pd.DataFrame(f, columns=['country_txt'])\n",
    "countries = countries.dropna(axis=0, how='any')"
   ]
  },
  {
   "cell_type": "code",
   "execution_count": 9,
   "id": "c38d1e66",
   "metadata": {
    "scrolled": false
   },
   "outputs": [
    {
     "data": {
      "application/vnd.jupyter.widget-view+json": {
       "model_id": "4f929f421de943b0869c785206622063"
      },
      "text/plain": [
       "             eventid  iyear  imonth  iday           approxdate  extended  \\\n",
       "0       197000000001   1970       7     2                  NaN         0   \n",
       "1       197000000002   1970       0     0                  NaN         0   \n",
       "2       197001000001   1970       1     0                  NaN         0   \n",
       "3       197001000002   1970       1     0                  NaN         0   \n",
       "4       197001000003   1970       1     0                  NaN         0   \n",
       "...              ...    ...     ...   ...                  ...       ...   \n",
       "209701  202012310015   2020      12    31  2020-12-31 00:00:00         0   \n",
       "209702  202012310016   2020      12    31  2020-12-31 00:00:00         0   \n",
       "209703  202012310017   2020      12    31                  NaN         0   \n",
       "209704  202012310018   2020      12    31                  NaN         0   \n",
       "209705  202012310019   2020      12    31                  NaN         1   \n",
       "\n",
       "       resolution  country         country_txt  region  ... addnotes  \\\n",
       "0             NaT       58  Dominican Republic       2  ...      NaN   \n",
       "1             NaT      130              Mexico       1  ...      NaN   \n",
       "2             NaT      160         Philippines       5  ...      NaN   \n",
       "3             NaT       78              Greece       8  ...      NaN   \n",
       "4             NaT      101               Japan       4  ...      NaN   \n",
       "...           ...      ...                 ...     ...  ...      ...   \n",
       "209701        NaT      228               Yemen      10  ...      NaN   \n",
       "209702        NaT      228               Yemen      10  ...      NaN   \n",
       "209703        NaT       75             Germany       8  ...      NaN   \n",
       "209704        NaT        4         Afghanistan       6  ...      NaN   \n",
       "209705        NaT       33        Burkina Faso      11  ...      NaN   \n",
       "\n",
       "                                                   scite1  \\\n",
       "0                                                     NaN   \n",
       "1                                                     NaN   \n",
       "2                                                     NaN   \n",
       "3                                                     NaN   \n",
       "4                                                     NaN   \n",
       "...                                                   ...   \n",
       "209701  \"Al Houthi militia escalated in Hays and targe...   \n",
       "209702  \"Al Houthi militia escalated in Hays and targe...   \n",
       "209703  \"Far-left arson attack suspected on German asy...   \n",
       "209704  \"Civil society activist and tribal elder kille...   \n",
       "209705  \"Terrorism Digest: 3-4 Jan 21,\" BBC Monitoring...   \n",
       "\n",
       "                                                   scite2  \\\n",
       "0                                                     NaN   \n",
       "1                                                     NaN   \n",
       "2                                                     NaN   \n",
       "3                                                     NaN   \n",
       "4                                                     NaN   \n",
       "...                                                   ...   \n",
       "209701                                                NaN   \n",
       "209702                                                NaN   \n",
       "209703  \"Fire of Bundeswehr vehicles in Leipzig, proba...   \n",
       "209704  \"Terrorism Digest: 1-2 Jan 21,\" BBC Monitoring...   \n",
       "209705                                                NaN   \n",
       "\n",
       "                                                   scite3  \\\n",
       "0                                                     NaN   \n",
       "1                                                     NaN   \n",
       "2                                                     NaN   \n",
       "3                                                     NaN   \n",
       "4                                                     NaN   \n",
       "...                                                   ...   \n",
       "209701                                                NaN   \n",
       "209702                                                NaN   \n",
       "209703  \"Anarchist Antifa Take Credit for Arson Attack...   \n",
       "209704                                                NaN   \n",
       "209705                                                NaN   \n",
       "\n",
       "                        dbsource  INT_LOG  INT_IDEO INT_MISC INT_ANY  related  \n",
       "0                           PGIS        0         0        0       0      NaN  \n",
       "1                           PGIS        0         1        1       1      NaN  \n",
       "2                           PGIS       -9        -9        1       1      NaN  \n",
       "3                           PGIS       -9        -9        1       1      NaN  \n",
       "4                           PGIS       -9        -9        1       1      NaN  \n",
       "...                          ...      ...       ...      ...     ...      ...  \n",
       "209701  START Primary Collection        0         0        0       0      NaN  \n",
       "209702  START Primary Collection        0         0        0       0      NaN  \n",
       "209703  START Primary Collection       -9        -9        0      -9      NaN  \n",
       "209704  START Primary Collection       -9        -9        0      -9      NaN  \n",
       "209705  START Primary Collection       -9        -9        0      -9      NaN  \n",
       "\n",
       "[209706 rows x 135 columns]"
      ]
     },
     "metadata": {},
     "output_type": "display_data"
    }
   ],
   "source": [
    "f"
   ]
  },
  {
   "cell_type": "code",
   "execution_count": null,
   "id": "409e4a20",
   "metadata": {},
   "outputs": [],
   "source": []
  }
 ],
 "metadata": {
  "kernelspec": {
   "display_name": "Python 3 (ipykernel)",
   "language": "python",
   "name": "python3"
  },
  "language_info": {
   "codemirror_mode": {
    "name": "ipython",
    "version": 3
   },
   "file_extension": ".py",
   "mimetype": "text/x-python",
   "name": "python",
   "nbconvert_exporter": "python",
   "pygments_lexer": "ipython3",
   "version": "3.10.8"
  },
  "vscode": {
   "interpreter": {
    "hash": "b7f379ac5d36deb2b885c0b31ab1c0ce88a2ddaf0167dbf850093dd3457dbff5"
   }
  }
 },
 "nbformat": 4,
 "nbformat_minor": 5
}
