{
 "cells": [
  {
   "cell_type": "markdown",
   "id": "cd782d53",
   "metadata": {},
   "source": [
    "Adatkészletünkben az 1970 óta történt terroreseményeket vizsgáljuk, a teljes világra kiterjedően."
   ]
  },
  {
   "cell_type": "code",
   "execution_count": 1,
   "id": "034f3afc",
   "metadata": {
    "scrolled": true
   },
   "outputs": [],
   "source": [
    "import numpy as np\n",
    "import pandas as pd\n",
    "import bamboolib as bam"
   ]
  },
  {
   "cell_type": "code",
   "execution_count": 2,
   "id": "0cef0927",
   "metadata": {},
   "outputs": [],
   "source": [
    "f = pd.read_excel(\"gtd.xlsx\")\n"
   ]
  },
  {
   "cell_type": "markdown",
   "id": "8a9c3cd7",
   "metadata": {},
   "source": [
    "Első intuíciónk összesíteni, hogy mely országokban történt a legtöbb esemény."
   ]
  },
  {
   "cell_type": "code",
   "execution_count": 3,
   "id": "409e4a20",
   "metadata": {},
   "outputs": [
    {
     "data": {
      "application/vnd.jupyter.widget-view+json": {
       "model_id": "bd3037f9e675480f82989d9311ea3486"
      },
      "text/plain": [
       "             eventid  iyear  imonth  iday           approxdate  extended  \\\n",
       "0       197000000001   1970       7     2                  NaN         0   \n",
       "1       197000000002   1970       0     0                  NaN         0   \n",
       "2       197001000001   1970       1     0                  NaN         0   \n",
       "3       197001000002   1970       1     0                  NaN         0   \n",
       "4       197001000003   1970       1     0                  NaN         0   \n",
       "...              ...    ...     ...   ...                  ...       ...   \n",
       "209701  202012310015   2020      12    31  2020-12-31 00:00:00         0   \n",
       "209702  202012310016   2020      12    31  2020-12-31 00:00:00         0   \n",
       "209703  202012310017   2020      12    31                  NaN         0   \n",
       "209704  202012310018   2020      12    31                  NaN         0   \n",
       "209705  202012310019   2020      12    31                  NaN         1   \n",
       "\n",
       "       resolution  country         country_txt  region  ... addnotes  \\\n",
       "0             NaT       58  Dominican Republic       2  ...      NaN   \n",
       "1             NaT      130              Mexico       1  ...      NaN   \n",
       "2             NaT      160         Philippines       5  ...      NaN   \n",
       "3             NaT       78              Greece       8  ...      NaN   \n",
       "4             NaT      101               Japan       4  ...      NaN   \n",
       "...           ...      ...                 ...     ...  ...      ...   \n",
       "209701        NaT      228               Yemen      10  ...      NaN   \n",
       "209702        NaT      228               Yemen      10  ...      NaN   \n",
       "209703        NaT       75             Germany       8  ...      NaN   \n",
       "209704        NaT        4         Afghanistan       6  ...      NaN   \n",
       "209705        NaT       33        Burkina Faso      11  ...      NaN   \n",
       "\n",
       "                                                   scite1  \\\n",
       "0                                                     NaN   \n",
       "1                                                     NaN   \n",
       "2                                                     NaN   \n",
       "3                                                     NaN   \n",
       "4                                                     NaN   \n",
       "...                                                   ...   \n",
       "209701  \"Al Houthi militia escalated in Hays and targe...   \n",
       "209702  \"Al Houthi militia escalated in Hays and targe...   \n",
       "209703  \"Far-left arson attack suspected on German asy...   \n",
       "209704  \"Civil society activist and tribal elder kille...   \n",
       "209705  \"Terrorism Digest: 3-4 Jan 21,\" BBC Monitoring...   \n",
       "\n",
       "                                                   scite2  \\\n",
       "0                                                     NaN   \n",
       "1                                                     NaN   \n",
       "2                                                     NaN   \n",
       "3                                                     NaN   \n",
       "4                                                     NaN   \n",
       "...                                                   ...   \n",
       "209701                                                NaN   \n",
       "209702                                                NaN   \n",
       "209703  \"Fire of Bundeswehr vehicles in Leipzig, proba...   \n",
       "209704  \"Terrorism Digest: 1-2 Jan 21,\" BBC Monitoring...   \n",
       "209705                                                NaN   \n",
       "\n",
       "                                                   scite3  \\\n",
       "0                                                     NaN   \n",
       "1                                                     NaN   \n",
       "2                                                     NaN   \n",
       "3                                                     NaN   \n",
       "4                                                     NaN   \n",
       "...                                                   ...   \n",
       "209701                                                NaN   \n",
       "209702                                                NaN   \n",
       "209703  \"Anarchist Antifa Take Credit for Arson Attack...   \n",
       "209704                                                NaN   \n",
       "209705                                                NaN   \n",
       "\n",
       "                        dbsource  INT_LOG  INT_IDEO INT_MISC INT_ANY  related  \n",
       "0                           PGIS        0         0        0       0      NaN  \n",
       "1                           PGIS        0         1        1       1      NaN  \n",
       "2                           PGIS       -9        -9        1       1      NaN  \n",
       "3                           PGIS       -9        -9        1       1      NaN  \n",
       "4                           PGIS       -9        -9        1       1      NaN  \n",
       "...                          ...      ...       ...      ...     ...      ...  \n",
       "209701  START Primary Collection        0         0        0       0      NaN  \n",
       "209702  START Primary Collection        0         0        0       0      NaN  \n",
       "209703  START Primary Collection       -9        -9        0      -9      NaN  \n",
       "209704  START Primary Collection       -9        -9        0      -9      NaN  \n",
       "209705  START Primary Collection       -9        -9        0      -9      NaN  \n",
       "\n",
       "[209706 rows x 135 columns]"
      ]
     },
     "metadata": {},
     "output_type": "display_data"
    }
   ],
   "source": [
    "f"
   ]
  },
  {
   "cell_type": "markdown",
   "id": "f4349d6a",
   "metadata": {},
   "source": [
    "Láthatjuk, hogy közel-keleti országokban kimagasló arányban fordulnak elő terroresemények, a top 2 ország az esetek 1/5-ét foglalja magába."
   ]
  },
  {
   "cell_type": "code",
   "execution_count": 4,
   "id": "48372f50",
   "metadata": {},
   "outputs": [
    {
     "data": {
      "application/vnd.jupyter.widget-view+json": {
       "model_id": "94859c6101ac4b49bf40ce8b288b0101"
      },
      "text/plain": [
       "     country_txt  count\n",
       "0    Afghanistan  18920\n",
       "1        Albania     82\n",
       "2        Algeria   2753\n",
       "3        Andorra      1\n",
       "4         Angola    501\n",
       "..           ...    ...\n",
       "199        Yemen   6027\n",
       "200   Yugoslavia    203\n",
       "201        Zaire     50\n",
       "202       Zambia     62\n",
       "203     Zimbabwe    106\n",
       "\n",
       "[204 rows x 2 columns]"
      ]
     },
     "metadata": {},
     "output_type": "display_data"
    }
   ],
   "source": [
    "countries = pd.DataFrame(f, columns=['country_txt','country'])\n",
    "countries = countries.groupby('country_txt').count()\n",
    "import pandas as pd; import numpy as np\n",
    "countries = countries.reset_index()\n",
    "countries = countries.rename(columns = {'country' : 'count'})\n",
    "countries"
   ]
  },
  {
   "cell_type": "markdown",
   "id": "7d5917d9",
   "metadata": {},
   "source": [
    "Boxploton jobban vizsgálhatóak a kiugró országok. Érdemes lehet ezeket jobban megvizsgálni, pl.: évente hány terrorcselekmény történt, azaz köthető-e bizonyos eseménysorozatokhoz (valószínűleg igen)."
   ]
  },
  {
   "cell_type": "markdown",
   "id": "6559d8c5",
   "metadata": {},
   "source": [
    "Vizsgáljunk meg egy ilyen országot:"
   ]
  },
  {
   "cell_type": "code",
   "execution_count": 11,
   "id": "b51ff833",
   "metadata": {},
   "outputs": [
    {
     "data": {
      "application/vnd.jupyter.widget-view+json": {
       "model_id": "d69b671bf85b427890dd7ada0846381e"
      },
      "text/plain": [
       "    iyear  count\n",
       "0    1975      1\n",
       "1    1976      3\n",
       "2    1979      2\n",
       "3    1980      6\n",
       "4    1981      3\n",
       "5    1982      5\n",
       "6    1983      3\n",
       "7    1984      2\n",
       "8    1987      3\n",
       "9    1988      4\n",
       "10   1989      4\n",
       "11   1991      3\n",
       "12   1992     35\n",
       "13   1994     18\n",
       "14   1995     17\n",
       "15   1996     12\n",
       "16   1997     21\n",
       "17   1998      7\n",
       "18   1999     12\n",
       "19   2000     10\n",
       "20   2001      3\n",
       "21   2002      6\n",
       "22   2003    102\n",
       "23   2004    323\n",
       "24   2005    617\n",
       "25   2006    837\n",
       "26   2007   1045\n",
       "27   2008   1106\n",
       "28   2009   1137\n",
       "29   2010   1179\n",
       "30   2011   1308\n",
       "31   2012   1435\n",
       "32   2013   2852\n",
       "33   2014   3934\n",
       "34   2015   2751\n",
       "35   2016   3395\n",
       "36   2017   2548\n",
       "37   2018   1364\n",
       "38   2019    644\n",
       "39   2020    764"
      ]
     },
     "metadata": {},
     "output_type": "display_data"
    }
   ],
   "source": [
    "iraqiEvents = pd.DataFrame(f, columns = ['country_txt', 'iyear'])[f.country_txt == 'Iraq']\n",
    "iraqiEvents = iraqiEvents.groupby('iyear').count()\n",
    "iraqiEvents = iraqiEvents.reset_index()\n",
    "iraqiEvents = iraqiEvents.rename(columns = {'country_txt' : 'count'})\n",
    "iraqiEvents"
   ]
  },
  {
   "cell_type": "markdown",
   "id": "9e8d721e",
   "metadata": {},
   "source": [
    "Látható, hogy pédául Irakban 2003-2007 között kedződött a terrorcselekmények felfutása, és még napjainkban is jelen van (de a tendencia csökkenő)."
   ]
  },
  {
   "cell_type": "markdown",
   "id": "0fbf073e",
   "metadata": {},
   "source": [
    "Az alábbi korrelációs mátrix segítségével összefüggéseket próbálunk keresni a támadás tulajdonságai és eredményei között, helyszínfüggetlenül."
   ]
  },
  {
   "cell_type": "code",
   "execution_count": 5,
   "id": "45c6016a",
   "metadata": {
    "scrolled": true
   },
   "outputs": [
    {
     "data": {
      "application/vnd.jupyter.widget-view+json": {
       "model_id": "d68693cce799448487dd6fc99a616941"
      },
      "text/plain": [
       "             eventid  iyear  imonth  iday           approxdate  extended  \\\n",
       "0       197000000001   1970       7     2                  NaN         0   \n",
       "1       197000000002   1970       0     0                  NaN         0   \n",
       "2       197001000001   1970       1     0                  NaN         0   \n",
       "3       197001000002   1970       1     0                  NaN         0   \n",
       "4       197001000003   1970       1     0                  NaN         0   \n",
       "...              ...    ...     ...   ...                  ...       ...   \n",
       "209701  202012310015   2020      12    31  2020-12-31 00:00:00         0   \n",
       "209702  202012310016   2020      12    31  2020-12-31 00:00:00         0   \n",
       "209703  202012310017   2020      12    31                  NaN         0   \n",
       "209704  202012310018   2020      12    31                  NaN         0   \n",
       "209705  202012310019   2020      12    31                  NaN         1   \n",
       "\n",
       "       resolution  country         country_txt  region  ... addnotes  \\\n",
       "0             NaT       58  Dominican Republic       2  ...      NaN   \n",
       "1             NaT      130              Mexico       1  ...      NaN   \n",
       "2             NaT      160         Philippines       5  ...      NaN   \n",
       "3             NaT       78              Greece       8  ...      NaN   \n",
       "4             NaT      101               Japan       4  ...      NaN   \n",
       "...           ...      ...                 ...     ...  ...      ...   \n",
       "209701        NaT      228               Yemen      10  ...      NaN   \n",
       "209702        NaT      228               Yemen      10  ...      NaN   \n",
       "209703        NaT       75             Germany       8  ...      NaN   \n",
       "209704        NaT        4         Afghanistan       6  ...      NaN   \n",
       "209705        NaT       33        Burkina Faso      11  ...      NaN   \n",
       "\n",
       "                                                   scite1  \\\n",
       "0                                                     NaN   \n",
       "1                                                     NaN   \n",
       "2                                                     NaN   \n",
       "3                                                     NaN   \n",
       "4                                                     NaN   \n",
       "...                                                   ...   \n",
       "209701  \"Al Houthi militia escalated in Hays and targe...   \n",
       "209702  \"Al Houthi militia escalated in Hays and targe...   \n",
       "209703  \"Far-left arson attack suspected on German asy...   \n",
       "209704  \"Civil society activist and tribal elder kille...   \n",
       "209705  \"Terrorism Digest: 3-4 Jan 21,\" BBC Monitoring...   \n",
       "\n",
       "                                                   scite2  \\\n",
       "0                                                     NaN   \n",
       "1                                                     NaN   \n",
       "2                                                     NaN   \n",
       "3                                                     NaN   \n",
       "4                                                     NaN   \n",
       "...                                                   ...   \n",
       "209701                                                NaN   \n",
       "209702                                                NaN   \n",
       "209703  \"Fire of Bundeswehr vehicles in Leipzig, proba...   \n",
       "209704  \"Terrorism Digest: 1-2 Jan 21,\" BBC Monitoring...   \n",
       "209705                                                NaN   \n",
       "\n",
       "                                                   scite3  \\\n",
       "0                                                     NaN   \n",
       "1                                                     NaN   \n",
       "2                                                     NaN   \n",
       "3                                                     NaN   \n",
       "4                                                     NaN   \n",
       "...                                                   ...   \n",
       "209701                                                NaN   \n",
       "209702                                                NaN   \n",
       "209703  \"Anarchist Antifa Take Credit for Arson Attack...   \n",
       "209704                                                NaN   \n",
       "209705                                                NaN   \n",
       "\n",
       "                        dbsource  INT_LOG  INT_IDEO INT_MISC INT_ANY  related  \n",
       "0                           PGIS        0         0        0       0      NaN  \n",
       "1                           PGIS        0         1        1       1      NaN  \n",
       "2                           PGIS       -9        -9        1       1      NaN  \n",
       "3                           PGIS       -9        -9        1       1      NaN  \n",
       "4                           PGIS       -9        -9        1       1      NaN  \n",
       "...                          ...      ...       ...      ...     ...      ...  \n",
       "209701  START Primary Collection        0         0        0       0      NaN  \n",
       "209702  START Primary Collection        0         0        0       0      NaN  \n",
       "209703  START Primary Collection       -9        -9        0      -9      NaN  \n",
       "209704  START Primary Collection       -9        -9        0      -9      NaN  \n",
       "209705  START Primary Collection       -9        -9        0      -9      NaN  \n",
       "\n",
       "[209706 rows x 135 columns]"
      ]
     },
     "metadata": {},
     "output_type": "display_data"
    }
   ],
   "source": [
    "f"
   ]
  },
  {
   "cell_type": "code",
   "execution_count": null,
   "id": "258a67ca",
   "metadata": {},
   "outputs": [],
   "source": []
  }
 ],
 "metadata": {
  "kernelspec": {
   "display_name": "Python 3 (ipykernel)",
   "language": "python",
   "name": "python3"
  },
  "language_info": {
   "codemirror_mode": {
    "name": "ipython",
    "version": 3
   },
   "file_extension": ".py",
   "mimetype": "text/x-python",
   "name": "python",
   "nbconvert_exporter": "python",
   "pygments_lexer": "ipython3",
   "version": "3.10.8"
  },
  "vscode": {
   "interpreter": {
    "hash": "b7f379ac5d36deb2b885c0b31ab1c0ce88a2ddaf0167dbf850093dd3457dbff5"
   }
  }
 },
 "nbformat": 4,
 "nbformat_minor": 5
}
